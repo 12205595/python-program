{
  "nbformat": 4,
  "nbformat_minor": 0,
  "metadata": {
    "colab": {
      "provenance": []
    },
    "kernelspec": {
      "name": "python3",
      "display_name": "Python 3"
    },
    "language_info": {
      "name": "python"
    }
  },
  "cells": [
    {
      "cell_type": "code",
      "execution_count": null,
      "metadata": {
        "colab": {
          "base_uri": "https://localhost:8080/"
        },
        "id": "L1OKhH-y0Q-n",
        "outputId": "c9263044-66ae-4968-ec6d-32fb5aaa0113"
      },
      "outputs": [
        {
          "output_type": "stream",
          "name": "stdout",
          "text": [
            "[12, 13, 14, 'poke', 'jigglipuff', 1, 2]\n",
            "[12, 13, 14, 'poke', 'jigglipuff', 1, 2]\n",
            "[12, 13, 14, 'poke', 'jigglipuff', 1, 2]\n",
            "[12, 13, 14, 'poke', 'jigglipuff', 1, 2]\n",
            "[12, 13, 14, 'poke', 'jigglipuff', 1, 2]\n",
            "[12, 13, 14, 'poke', 'jigglipuff', 1, 2]\n",
            "[12, 13, 14, 'poke', 'jigglipuff', 1, 2]\n"
          ]
        }
      ],
      "source": [
        "pokelist=[12,13,14,\"poke\",\"jigglipuff\",1,2]\n",
        "for poke in pokelist:\n",
        "  # point(poke)\n",
        " print(pokelist)"
      ]
    },
    {
      "cell_type": "code",
      "source": [
        "\n",
        "v1=\"pikachu\"\n",
        "v2=\"raichu\"\n",
        "for v in v1:\n",
        "\n",
        " print(v)\n",
        " print(v)\n",
        " print(v1[0])\n",
        " print(v1[3])\n"
      ],
      "metadata": {
        "colab": {
          "base_uri": "https://localhost:8080/"
        },
        "id": "nOCAkIvD3y6s",
        "outputId": "d81d9290-248e-4914-8d3d-25beeee23d38"
      },
      "execution_count": null,
      "outputs": [
        {
          "output_type": "stream",
          "name": "stdout",
          "text": [
            "p\n",
            "p\n",
            "p\n",
            "a\n",
            "i\n",
            "i\n",
            "p\n",
            "a\n",
            "k\n",
            "k\n",
            "p\n",
            "a\n",
            "a\n",
            "a\n",
            "p\n",
            "a\n",
            "c\n",
            "c\n",
            "p\n",
            "a\n",
            "h\n",
            "h\n",
            "p\n",
            "a\n",
            "u\n",
            "u\n",
            "p\n",
            "a\n"
          ]
        }
      ]
    },
    {
      "cell_type": "code",
      "source": [
        "l1=['pikachu_1','charmander_2','pushpa_3','ganesh_9','bunnygadu_4']\n",
        "print(v1[0])\n",
        "print(v1[-1])\n",
        "print(v1[2])\n",
        "print(v1[3])\n",
        "print(v1[:3])\n",
        "print(v1[-3:])\n",
        "print(v1[-1:-4:-1])\n",
        "print(v1[::-1])\n"
      ],
      "metadata": {
        "colab": {
          "base_uri": "https://localhost:8080/"
        },
        "id": "4jDzlln85AVv",
        "outputId": "314221ac-bda6-4d34-c30e-a8befba5730b"
      },
      "execution_count": null,
      "outputs": [
        {
          "output_type": "stream",
          "name": "stdout",
          "text": [
            "p\n",
            "u\n",
            "k\n",
            "a\n",
            "pik\n",
            "chu\n",
            "uhc\n",
            "uhcakip\n"
          ]
        }
      ]
    },
    {
      "cell_type": "code",
      "source": [
        "L=[\"bulbasur_1\",\"coocoo_2\",\"squirtle_142\",\"charmander_4\",\"grasdon_5\",\"se10\",\"rocky_11\",\"onyx_12\",\"raichu_13\",\"koko_14\",\"palka_15\",\"charlizard_16\"]\n",
        "for x  in L:\n",
        "  print(x[:-3])\n",
        "for L in L:\n",
        "  print(L[-4:-1])\n",
        "\n",
        "\n",
        "\n"
      ],
      "metadata": {
        "id": "ESywfSbQ8jWa",
        "colab": {
          "base_uri": "https://localhost:8080/"
        },
        "outputId": "cb0b7abb-f50d-45d3-ff98-78b055ab5e0b"
      },
      "execution_count": 29,
      "outputs": [
        {
          "output_type": "stream",
          "name": "stdout",
          "text": [
            "bulbasu\n",
            "cooco\n",
            "squirtle_\n",
            "charmande\n",
            "grasdo\n",
            "sevipar\n",
            "para\n",
            "greninj\n",
            "genga\n",
            "mew\n",
            "rocky\n",
            "onyx\n",
            "raichu\n",
            "koko\n",
            "palka\n",
            "charlizard\n",
            "ur_\n",
            "oo_\n",
            "_14\n",
            "er_\n",
            "on_\n",
            "r_6\n",
            "as_\n",
            "ja_\n",
            "ar_\n",
            "w_1\n",
            "y_1\n",
            "x_1\n",
            "u_1\n",
            "o_1\n",
            "a_1\n",
            "d_1\n"
          ]
        }
      ]
    },
    {
      "cell_type": "code",
      "source": [
        "L=[\"bulbasur_1\",\"coocoo_2\",\"squirtle_142\",\"charmander_4\",\"grasdon_5\",\"se10\",\"rocky_11\",\"onyx_12\",\"raichu_13\",\"koko_14\",\"palka_15\",\"charlizard_16\"]\n",
        "for i in L[::2]:\n",
        "  k=i.find('_')\n",
        "  print(i[:k])"
      ],
      "metadata": {
        "colab": {
          "base_uri": "https://localhost:8080/"
        },
        "id": "SADIhOtORo5a",
        "outputId": "f15bae1a-1fff-4ad6-c2b1-f7ccceb2e421"
      },
      "execution_count": 35,
      "outputs": [
        {
          "output_type": "stream",
          "name": "stdout",
          "text": [
            "bulbasur\n",
            "squirtle\n",
            "grasdon\n",
            "rocky\n",
            "raichu\n",
            "palka\n"
          ]
        }
      ]
    },
    {
      "cell_type": "code",
      "source": [
        "L=[\"bulbasur_1\",\"coocoo_2\",\"squirtle_142\",\"charmander_4\",\"grasdon_5\",\"se10\",\"rocky_11\",\"onyx_12\",\"raichu_13\",\"koko_14\",\"palka_15\",\"charlizard_16\"]\n",
        "for i in L:\n",
        "  k=i.startswith(\"g\")\n",
        "  if k==True:\n",
        "    l1=i.find('_')\n",
        "    print(i)\n",
        "    print(i[:l1])"
      ],
      "metadata": {
        "colab": {
          "base_uri": "https://localhost:8080/"
        },
        "id": "T2prBRVbZQMY",
        "outputId": "3c1bf4c5-4a68-4b5a-9935-c83c5ed9b90c"
      },
      "execution_count": 83,
      "outputs": [
        {
          "output_type": "stream",
          "name": "stdout",
          "text": [
            "grasdon_5\n",
            "grasdon\n"
          ]
        }
      ]
    },
    {
      "cell_type": "code",
      "source": [
        "L2=[1,2,3,4,5,]\n",
        "for i in L[::2]:\n",
        "  L2.append(i)\n"
      ],
      "metadata": {
        "id": "x44lsR72bwnx"
      },
      "execution_count": 75,
      "outputs": []
    },
    {
      "cell_type": "code",
      "source": [],
      "metadata": {
        "id": "tkjlfy-Sju25"
      },
      "execution_count": null,
      "outputs": []
    }
  ]
}